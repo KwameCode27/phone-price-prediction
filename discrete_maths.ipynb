{
  "nbformat": 4,
  "nbformat_minor": 0,
  "metadata": {
    "colab": {
      "provenance": [],
      "authorship_tag": "ABX9TyNXg5PxK0pfBBOG53WWwVQp",
      "include_colab_link": true
    },
    "kernelspec": {
      "name": "python3",
      "display_name": "Python 3"
    },
    "language_info": {
      "name": "python"
    }
  },
  "cells": [
    {
      "cell_type": "markdown",
      "metadata": {
        "id": "view-in-github",
        "colab_type": "text"
      },
      "source": [
        "<a href=\"https://colab.research.google.com/github/KwameCode27/phone-price-prediction/blob/main/discrete_maths.ipynb\" target=\"_parent\"><img src=\"https://colab.research.google.com/assets/colab-badge.svg\" alt=\"Open In Colab\"/></a>"
      ]
    },
    {
      "cell_type": "code",
      "execution_count": 2,
      "metadata": {
        "colab": {
          "base_uri": "https://localhost:8080/"
        },
        "id": "7CeHPb_awy4I",
        "outputId": "fc7e2a5c-f25b-4ba1-e7a2-018cdc203474"
      },
      "outputs": [
        {
          "output_type": "stream",
          "name": "stdout",
          "text": [
            "4725\n"
          ]
        }
      ],
      "source": [
        "sum = 0\n",
        "for i in range (10):\n",
        "  for j in range (15):\n",
        "    sum = sum + i*j\n",
        "print(sum)"
      ]
    },
    {
      "cell_type": "code",
      "source": [
        "def exponent_modular(base,exponent, modulus):\n",
        "  result = 1\n",
        "  for i in range(exponent):\n",
        "    result = (result * base) % modulus\n",
        "  return result\n",
        "\n",
        "exponent_modular(7,121,13)"
      ],
      "metadata": {
        "colab": {
          "base_uri": "https://localhost:8080/"
        },
        "id": "piBhZIG0xGch",
        "outputId": "ffb7eb34-ef79-4718-c5a2-87518c2bcc2b"
      },
      "execution_count": 3,
      "outputs": [
        {
          "output_type": "execute_result",
          "data": {
            "text/plain": [
              "7"
            ]
          },
          "metadata": {},
          "execution_count": 3
        }
      ]
    }
  ]
}